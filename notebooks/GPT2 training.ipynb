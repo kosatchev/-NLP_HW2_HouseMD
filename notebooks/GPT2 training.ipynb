{
 "cells": [
  {
   "cell_type": "markdown",
   "id": "48013200-76bd-46ab-8c54-4bf64b1e5844",
   "metadata": {},
   "source": [
    "## Импорты"
   ]
  },
  {
   "cell_type": "code",
   "execution_count": 1,
   "id": "98c877c0-5cdd-40f2-8036-b15f62e08e7b",
   "metadata": {},
   "outputs": [],
   "source": [
    "import pandas as pd\n",
    "from transformers import GPT2Tokenizer, GPT2LMHeadModel, AdamW\n",
    "from torch.utils.data import Dataset, DataLoader\n",
    "import torch\n",
    "from tqdm import tqdm\n",
    "import nltk\n",
    "from rouge_score import rouge_scorer\n",
    "from sklearn.model_selection import train_test_split\n",
    "import torch.nn as nn"
   ]
  },
  {
   "cell_type": "markdown",
   "id": "3e4eeca8-e245-41a3-aaf1-66f6e4e0df90",
   "metadata": {},
   "source": [
    "## Подготовка данных"
   ]
  },
  {
   "cell_type": "code",
   "execution_count": 2,
   "id": "f738ff10-6b6a-49e7-8464-a31dea7910d4",
   "metadata": {},
   "outputs": [],
   "source": [
    "data_path = '../data/processed/context_answer.csv'\n",
    "df = pd.read_csv(data_path)\n",
    "\n",
    "# Фильтрация данных\n",
    "min_length = 3\n",
    "max_length = 50\n",
    "df = df[(df['context'].str.split().str.len().between(min_length, max_length)) & \n",
    "        (df['response'].str.split().str.len().between(min_length, max_length))]"
   ]
  },
  {
   "cell_type": "markdown",
   "id": "5078d044-ae85-44b9-a35a-a064e1d6a5ce",
   "metadata": {},
   "source": [
    "## Подготовка модели"
   ]
  },
  {
   "cell_type": "code",
   "execution_count": 3,
   "id": "c59d07c3-b522-4877-b6be-6f4eb0f3853e",
   "metadata": {},
   "outputs": [
    {
     "name": "stderr",
     "output_type": "stream",
     "text": [
      "The new embeddings will be initialized from a multivariate normal distribution that has old embeddings' mean and covariance. As described in this article: https://nlp.stanford.edu/~johnhew/vocab-expansion.html. To disable this, use `mean_resizing=False`\n"
     ]
    }
   ],
   "source": [
    "# Инициализация токенизатора с дополнительным токеном\n",
    "tokenizer = GPT2Tokenizer.from_pretrained('gpt2')\n",
    "sep_token = '<|sep|>'\n",
    "tokenizer.add_special_tokens({'additional_special_tokens': [sep_token]})\n",
    "tokenizer.pad_token = tokenizer.eos_token\n",
    "\n",
    "# Создание объединенных последовательностей\n",
    "def create_sequences(row):\n",
    "    return f\"{row['context']} {sep_token} {row['response']}{tokenizer.eos_token}\"\n",
    "\n",
    "df['sequence'] = df.apply(create_sequences, axis=1)\n",
    "\n",
    "# Разделение данных\n",
    "train_df, test_df = train_test_split(df, test_size=0.2, random_state=42)\n",
    "\n",
    "# Класс Dataset\n",
    "class ConversationDataset(Dataset):\n",
    "    def __init__(self, sequences, tokenizer, max_length=128):\n",
    "        self.tokenizer = tokenizer\n",
    "        self.max_length = max_length\n",
    "        self.encodings = tokenizer(\n",
    "            sequences.tolist(),\n",
    "            truncation=True,\n",
    "            max_length=max_length,\n",
    "            padding='max_length',\n",
    "            return_tensors='pt'\n",
    "        )\n",
    "\n",
    "    def __len__(self):\n",
    "        return len(self.encodings['input_ids'])\n",
    "\n",
    "    def __getitem__(self, idx):\n",
    "        return {\n",
    "            'input_ids': self.encodings['input_ids'][idx],\n",
    "            'attention_mask': self.encodings['attention_mask'][idx],\n",
    "            'labels': self.encodings['input_ids'][idx].clone()\n",
    "        }\n",
    "\n",
    "# Создание Dataset и DataLoader\n",
    "train_dataset = ConversationDataset(train_df['sequence'], tokenizer)\n",
    "train_loader = DataLoader(train_dataset, batch_size=8, shuffle=True)\n",
    "\n",
    "# Инициализация модели\n",
    "model = GPT2LMHeadModel.from_pretrained('gpt2')\n",
    "model.resize_token_embeddings(len(tokenizer))\n",
    "\n",
    "# Заморозка слоев\n",
    "for param in model.parameters():\n",
    "    param.requires_grad = False\n",
    "for param in model.transformer.h[-4:].parameters():\n",
    "    param.requires_grad = True"
   ]
  },
  {
   "cell_type": "markdown",
   "id": "639b0241-9a2f-4c41-a2aa-006593418e07",
   "metadata": {},
   "source": [
    "## Подготовка модели"
   ]
  },
  {
   "cell_type": "code",
   "execution_count": 4,
   "id": "cf3a9e75-fb65-4560-8180-c1084ecb6b85",
   "metadata": {},
   "outputs": [
    {
     "name": "stderr",
     "output_type": "stream",
     "text": [
      "/opt/conda/lib/python3.11/site-packages/transformers/optimization.py:640: FutureWarning: This implementation of AdamW is deprecated and will be removed in a future version. Use the PyTorch implementation torch.optim.AdamW instead, or set `no_deprecation_warning=True` to disable this warning\n",
      "  warnings.warn(\n",
      "Epoch 1:   0%|                                                                                 | 0/1188 [00:00<?, ?it/s]`loss_type=None` was set in the config but it is unrecognised.Using the default loss: `ForCausalLMLoss`.\n",
      "Epoch 1: 100%|███████████████████████████████████████████████████████████| 1188/1188 [00:52<00:00, 22.65it/s, loss=4.74]\n"
     ]
    },
    {
     "name": "stdout",
     "output_type": "stream",
     "text": [
      "Epoch 1 Average Loss: 3.9978\n"
     ]
    },
    {
     "name": "stderr",
     "output_type": "stream",
     "text": [
      "Epoch 2: 100%|███████████████████████████████████████████████████████████| 1188/1188 [00:52<00:00, 22.70it/s, loss=3.43]\n"
     ]
    },
    {
     "name": "stdout",
     "output_type": "stream",
     "text": [
      "Epoch 2 Average Loss: 3.8383\n"
     ]
    },
    {
     "name": "stderr",
     "output_type": "stream",
     "text": [
      "Epoch 3: 100%|███████████████████████████████████████████████████████████| 1188/1188 [00:51<00:00, 23.15it/s, loss=2.92]"
     ]
    },
    {
     "name": "stdout",
     "output_type": "stream",
     "text": [
      "Epoch 3 Average Loss: 3.7448\n"
     ]
    },
    {
     "name": "stderr",
     "output_type": "stream",
     "text": [
      "\n"
     ]
    }
   ],
   "source": [
    "# Настройка обучения\n",
    "optimizer = AdamW(model.parameters(), lr=3e-5)\n",
    "device = torch.device('cuda' if torch.cuda.is_available() else 'cpu')\n",
    "model.to(device)\n",
    "\n",
    "# Обучение с прогресс-баром\n",
    "for epoch in range(3):\n",
    "    model.train()\n",
    "    total_loss = 0\n",
    "    progress_bar = tqdm(train_loader, desc=f\"Epoch {epoch+1}\")\n",
    "    \n",
    "    for batch in progress_bar:\n",
    "        optimizer.zero_grad()\n",
    "        \n",
    "        inputs = batch['input_ids'].to(device)\n",
    "        masks = batch['attention_mask'].to(device)\n",
    "        labels = batch['labels'].to(device)\n",
    "        \n",
    "        # Маскировка loss для части контекста\n",
    "        labels[inputs == tokenizer.pad_token_id] = -100\n",
    "        sep_positions = (inputs == tokenizer.convert_tokens_to_ids(sep_token)).nonzero()[:,1]\n",
    "        for i, pos in enumerate(sep_positions):\n",
    "            labels[i, :pos+1] = -100\n",
    "        \n",
    "        outputs = model(inputs, attention_mask=masks, labels=labels)\n",
    "        loss = outputs.loss\n",
    "        loss.backward()\n",
    "        optimizer.step()\n",
    "        \n",
    "        total_loss += loss.item()\n",
    "        progress_bar.set_postfix({'loss': loss.item()})\n",
    "    \n",
    "    print(f\"Epoch {epoch+1} Average Loss: {total_loss/len(train_loader):.4f}\")\n",
    "\n",
    "# Функция генерации ответа\n",
    "def generate_response(model, tokenizer, context, max_length=50):\n",
    "    prompt = f\"{context} {sep_token}\"\n",
    "    inputs = tokenizer(prompt, return_tensors='pt').to(device)\n",
    "    \n",
    "    output = model.generate(\n",
    "        inputs.input_ids,\n",
    "        max_length=max_length,\n",
    "        pad_token_id=tokenizer.eos_token_id,\n",
    "        do_sample=True,\n",
    "        top_k=50,\n",
    "        top_p=0.95,\n",
    "        temperature=0.8,\n",
    "        num_return_sequences=1,\n",
    "        no_repeat_ngram_size=2  # Блокировка повторяющихся n-грамм\n",
    "    )\n",
    "    \n",
    "    full_text = tokenizer.decode(output[0], skip_special_tokens=False)\n",
    "    response = full_text.split(sep_token)[-1].split(tokenizer.eos_token)[0].strip()\n",
    "    return response\n",
    "    "
   ]
  },
  {
   "cell_type": "markdown",
   "id": "93b54f65-6eaf-440b-98a4-595599b6cf08",
   "metadata": {},
   "source": [
    "## Сохранение модели и токенизатора"
   ]
  },
  {
   "cell_type": "code",
   "execution_count": 9,
   "id": "879ff3bf-b285-41cb-9dfc-973006266838",
   "metadata": {},
   "outputs": [
    {
     "data": {
      "text/plain": [
       "('../trained_tokenizer/tokenizer_config.json',\n",
       " '../trained_tokenizer/special_tokens_map.json',\n",
       " '../trained_tokenizer/vocab.json',\n",
       " '../trained_tokenizer/merges.txt',\n",
       " '../trained_tokenizer/added_tokens.json')"
      ]
     },
     "execution_count": 9,
     "metadata": {},
     "output_type": "execute_result"
    }
   ],
   "source": [
    "model.save_pretrained('../trained_model/')\n",
    "tokenizer.save_pretrained('../trained_tokenizer/')"
   ]
  }
 ],
 "metadata": {
  "kernelspec": {
   "display_name": "Python 3 (ipykernel)",
   "language": "python",
   "name": "python3"
  },
  "language_info": {
   "codemirror_mode": {
    "name": "ipython",
    "version": 3
   },
   "file_extension": ".py",
   "mimetype": "text/x-python",
   "name": "python",
   "nbconvert_exporter": "python",
   "pygments_lexer": "ipython3",
   "version": "3.11.8"
  }
 },
 "nbformat": 4,
 "nbformat_minor": 5
}
